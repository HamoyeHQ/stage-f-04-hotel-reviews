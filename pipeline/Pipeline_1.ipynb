{
 "cells": [
  {
   "cell_type": "markdown",
   "metadata": {},
   "source": [
    "Import neccessary libraries"
   ]
  },
  {
   "cell_type": "code",
   "execution_count": null,
   "metadata": {},
   "outputs": [],
   "source": [
    "#Install the SDK\n",
    "!pip3 install kfp --quiet\n",
    "!python -m pip install --user --upgrade pip --quiet\n",
    "!pip3 install pandas==0.23.4 matplotlib==3.0.3 scipy==1.2.1 scikit-learn==0.22 tensorflow==2.0 keras==1.2.2 --user --quiet"
   ]
  },
  {
   "cell_type": "code",
   "execution_count": null,
   "metadata": {},
   "outputs": [],
   "source": [
    "import kfp\n",
    "import kfp.components as comp"
   ]
  },
  {
   "cell_type": "code",
   "execution_count": null,
   "metadata": {},
   "outputs": [],
   "source": [
    "def train():\n",
    "    import pandas as pd\n",
    "    import numpy as np\n",
    "    from nltk.corpus import stopwords\n",
    "    from sklearn.feature_extraction.text import TfidfVectorizer\n",
    "    from sklearn.metrics.pairwise import linear_kernel\n",
    "    \n",
    "    import sys, subprocess;\n",
    "    subprocess.run([sys.executable, '-m', 'pip', 'install', 'pandas==0.23.4'])\n",
    "    subprocess.run([sys.executable, '-m', 'pip', 'install', 'scikit-learn==0.22'])\n",
    "    out_dir = \"https://storage.googleapis.com/micro-access-290111/Hotel_Pipeline\"\n",
    "    \n",
    "    df1 = pd.read_csv(\"https://storage.googleapis.com/micro-access-290111/Hotel_Review_Dataset(1).csv\")\n",
    "    df2 = pd.read_csv(\"https://storage.googleapis.com/micro-access-290111/Hotel_Review_Dataset(2).csv\")\n",
    "    df3 = pd.read_csv(\"https://storage.googleapis.com/micro-access-290111/Hotel_Review_Dataset(3).csv\")\n",
    "    \n",
    "    df = pd.concat([df1,df2,df3])\n",
    "    \n",
    "    class Review_recommender():\n",
    "        def __init__(self,data=df):\n",
    "            self.data = data\n",
    "            self.clean_df = self.data.groupby('Hotel_Name').agg({'Negative_Review':', '.join,'Positive_Review':', '.join}).reset_index()\n",
    "            self.clean_df['Combined_Review'] = self.clean_df['Positive_Review'].astype(str) + self.clean_df['Negative_Review'].astype(str)\n",
    "            self.clean_df[\"Combined_Review\"] = self.clean_df[\"Combined_Review\"].apply(lambda x: x.replace(\"No Negative\", \"\").replace(\"No Positive\", \"\"))\n",
    "            self.clean_df['Combined_Review'] = self.clean_df['Combined_Review'].apply(lambda x: \" \".join(x.lower() for x in x.split()))\n",
    "            stop = stopwords.words('english')\n",
    "            self.clean_df['Combined_Review'] = self.clean_df['Combined_Review'].apply(lambda x: \" \".join(x for x in x.split() if x not in stop))\n",
    "            tfv = TfidfVectorizer(min_df=3, max_features =None,strip_accents='unicode',analyzer='word',token_pattern=r'\\w{1,}',ngram_range=(1,3))\n",
    "            self.tfv_matrix = tfv.fit_transform(self.clean_df['Combined_Review'])\n",
    "            self.clean_df.drop(['Combined_Review','Positive_Review','Negative_Review'],1,inplace=True)\n",
    "            del tfv,self.data,stop\n",
    "            self.cos_sim = linear_kernel(self.tfv_matrix, self.tfv_matrix)\n",
    "            self.indices = pd.Series(self.clean_df.index, index=self.clean_df['Hotel_Name']).drop_duplicates()\n",
    "        \n",
    "        def recommend(self,index):\n",
    "            index = self.indices[index]\n",
    "            sim_scores = list(enumerate(self.cos_sim[index]))\n",
    "            sim_scores = sorted(sim_scores, key=lambda x: x[1], reverse=True)\n",
    "            sim_scores = sim_scores[1:11]\n",
    "            hotel_indices = [i[0] for i in sim_scores]\n",
    "            rec_list = []\n",
    "            for i in self.clean_df['Hotel_Name'].iloc[hotel_indices]:\n",
    "                rec_list.append(i)\n",
    "    \n",
    "    name = \"Hotel Arena\"\n",
    "    recommender = Review_recommender()\n",
    "    rec = recommender.recommend(name)\n",
    "    rec_list = rec.rec_list\n",
    "        \n",
    "        \n",
    "        \n",
    "    from tensorflow.python.lib.io import file_io\n",
    "    import json\n",
    "    \n",
    "    # Exports a sample tensorboard:\n",
    "    metadata = {\n",
    "        'outputs' : [{\n",
    "        'type': 'tensorboard',\n",
    "        'source': 'gs://ml-pipeline-dataset/tensorboard-train',\n",
    "        }]\n",
    "    }\n",
    "\n",
    "    # Exports two sample metrics:\n",
    "    metrics = {\n",
    "    'metrics': [{\n",
    "            'name': 'Recommended Hotels',\n",
    "            'list':  list(rec_list),\n",
    "        },\n",
    "        ]}\n",
    "\n",
    "    from collections import namedtuple\n",
    "    recommender_output = namedtuple('RecommenderOutput', ['rec_list', 'mlpipeline_ui_metadata', 'mlpipeline_metrics'])\n",
    "    return recommender_output(rec_list, json.dumps(metadata), json.dumps(metrics))"
   ]
  },
  {
   "cell_type": "markdown",
   "metadata": {},
   "source": [
    "Convert Python function into a pipeline operation"
   ]
  },
  {
   "cell_type": "code",
   "execution_count": null,
   "metadata": {},
   "outputs": [],
   "source": [
    "train_op = comp.func_to_container_op(train, base_image='tensorflow/tensorflow:1.11.0-py3')"
   ]
  },
  {
   "cell_type": "markdown",
   "metadata": {},
   "source": [
    "Test running the python function directly"
   ]
  },
  {
   "cell_type": "markdown",
   "metadata": {},
   "source": [
    "Define the pipeline\n",
    "\n",
    "Pipeline function has to be decorated with the @dsl.pipeline decorator"
   ]
  },
  {
   "cell_type": "code",
   "execution_count": null,
   "metadata": {},
   "outputs": [],
   "source": [
    "import kfp.dsl as dsl\n",
    "@dsl.pipeline(\n",
    "   name='Recommender pipeline',\n",
    "   description='A toy pipeline that performs recommendation tasks.'\n",
    ")\n",
    "def rec_pipeline():\n",
    "    #Passing pipeline parameter and a constant value as operation arguments\n",
    "    train_task = train_op() #Returns a dsl.ContainerOp class instance. "
   ]
  },
  {
   "cell_type": "markdown",
   "metadata": {},
   "source": [
    "Submit the pipeline for execution"
   ]
  },
  {
   "cell_type": "code",
   "execution_count": 13,
   "metadata": {},
   "outputs": [
    {
     "data": {
      "text/html": [
       "Experiment link <a href=\"http://49b5cb790f037a10-dot-us-central2.pipelines.googleusercontent.com/#/experiments/details/c51182ef-ce49-4f29-a756-8967ad169687\" target=\"_blank\" >here</a>"
      ],
      "text/plain": [
       "<IPython.core.display.HTML object>"
      ]
     },
     "metadata": {},
     "output_type": "display_data"
    },
    {
     "data": {
      "text/html": [
       "Run link <a href=\"http://49b5cb790f037a10-dot-us-central2.pipelines.googleusercontent.com/#/runs/details/3db4d37b-b79e-494c-8e45-c5e670d54653\" target=\"_blank\" >here</a>"
      ],
      "text/plain": [
       "<IPython.core.display.HTML object>"
      ]
     },
     "metadata": {},
     "output_type": "display_data"
    }
   ],
   "source": [
    "#Specify pipeline argument values\n",
    "arguments = {'a': '7', 'b': '8'}\n",
    "experiment_name = 'experiment_1'\n",
    "\n",
    "#Submit a pipeline run\n",
    "kfp.Client(host='49b5cb790f037a10-dot-us-central2.pipelines.googleusercontent.com').create_run_from_pipeline_func(rec_pipeline, arguments=arguments)\n",
    "# Compile pipeline to generate compressed YAML definition of the pipeline.\n",
    "kfp.compiler.Compiler().compile(calc_pipeline, '{}.zip'.format(experiment_name))"
   ]
  },
  {
   "cell_type": "code",
   "execution_count": null,
   "metadata": {},
   "outputs": [],
   "source": []
  }
 ],
 "metadata": {
  "environment": {
   "name": "tf2-2-3-gpu.2-3.m56",
   "type": "gcloud",
   "uri": "gcr.io/deeplearning-platform-release/tf2-2-3-gpu.2-3:m56"
  },
  "kernelspec": {
   "display_name": "Python 3",
   "language": "python",
   "name": "python3"
  },
  "language_info": {
   "codemirror_mode": {
    "name": "ipython",
    "version": 3
   },
   "file_extension": ".py",
   "mimetype": "text/x-python",
   "name": "python",
   "nbconvert_exporter": "python",
   "pygments_lexer": "ipython3",
   "version": "3.7.8"
  }
 },
 "nbformat": 4,
 "nbformat_minor": 4
}
